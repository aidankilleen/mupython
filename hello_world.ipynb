{
 "cells": [
  {
   "cell_type": "code",
   "execution_count": 3,
   "metadata": {},
   "outputs": [
    {
     "name": "stdout",
     "output_type": "stream",
     "text": [
      "Hello Aidan\n"
     ]
    }
   ],
   "source": [
    "name = \"Aidan\"\n",
    "print(f\"Hello { name }\")\n"
   ]
  },
  {
   "cell_type": "code",
   "execution_count": 5,
   "metadata": {},
   "outputs": [
    {
     "name": "stdout",
     "output_type": "stream",
     "text": [
      "[[9 8 7 3 5]\n",
      " [4 3 1 7 7]\n",
      " [7 1 3 2 6]\n",
      " [2 3 4 9 2]\n",
      " [3 6 4 7 5]]\n",
      "3\n"
     ]
    }
   ],
   "source": [
    "import numpy as np\n",
    "\n",
    "r = np.random.randint(1, 10, (5, 5))\n",
    "\n",
    "print (r)\n",
    "\n",
    "# for row in r:\n",
    "#     for column in row:\n",
    "#         print (column)\n",
    "\n",
    "print(r[2][2])\n",
    "\n"
   ]
  },
  {
   "cell_type": "code",
   "execution_count": 8,
   "metadata": {},
   "outputs": [
    {
     "name": "stdout",
     "output_type": "stream",
     "text": [
      "[[6 1 5 7 8 9 6 2 2 6 4 1 4 4 9 2 9 5 3 2]]\n",
      "6\n"
     ]
    }
   ],
   "source": [
    "values = np.random.randint(1, 10, (1, 20))\n",
    "\n",
    "print (values)\n",
    "\n",
    "print (values[0][0])\n",
    "\n",
    "\n"
   ]
  },
  {
   "cell_type": "code",
   "execution_count": 11,
   "metadata": {},
   "outputs": [
    {
     "name": "stdout",
     "output_type": "stream",
     "text": [
      "[[6 3 1 1 9]\n",
      " [3 3 8 4 2]\n",
      " [3 4 1 8 1]\n",
      " [2 3 2 8 5]\n",
      " [5 8 8 1 7]]\n",
      "column 1, [6 3 3 2 5]\n",
      "column 2, [3 3 4 3 8]\n",
      "column 3, [1 8 1 2 8]\n",
      "column 4, [1 4 8 8 1]\n",
      "column 5, [9 2 1 5 7]\n"
     ]
    }
   ],
   "source": [
    "data = np.random.randint(1, 10, (5, 5))\n",
    "\n",
    "column = data[0:4, 1]\n",
    "\n",
    "print (data)\n",
    "#print (column)\n",
    "\n",
    "for column_index in range(len(data[0])):  # length of any row is the num of columns\n",
    "    column = data[:, column_index]\n",
    "    print(f\"column {column_index + 1}, {column}\")\n",
    "\n",
    "\n"
   ]
  },
  {
   "cell_type": "code",
   "execution_count": 14,
   "metadata": {},
   "outputs": [
    {
     "name": "stdout",
     "output_type": "stream",
     "text": [
      "[[8 8 3 9 1 6 6 8 3]]\n",
      "[[8 8 3]\n",
      " [9 1 6]\n",
      " [6 8 3]]\n",
      "<class 'numpy.ndarray'>\n"
     ]
    }
   ],
   "source": [
    "rnumbers = np.random.randint(1, 10, (1, 9))\n",
    "\n",
    "print (rnumbers)\n",
    "\n",
    "square = np.reshape(rnumbers, (3, 3))\n",
    "\n",
    "print(square)\n",
    "\n",
    "print (type(square))"
   ]
  }
 ],
 "metadata": {
  "kernelspec": {
   "display_name": "Python 3.10.0 64-bit",
   "language": "python",
   "name": "python3"
  },
  "language_info": {
   "codemirror_mode": {
    "name": "ipython",
    "version": 3
   },
   "file_extension": ".py",
   "mimetype": "text/x-python",
   "name": "python",
   "nbconvert_exporter": "python",
   "pygments_lexer": "ipython3",
   "version": "3.10.5"
  },
  "orig_nbformat": 4,
  "vscode": {
   "interpreter": {
    "hash": "369f2c481f4da34e4445cda3fffd2e751bd1c4d706f27375911949ba6bb62e1c"
   }
  }
 },
 "nbformat": 4,
 "nbformat_minor": 2
}
